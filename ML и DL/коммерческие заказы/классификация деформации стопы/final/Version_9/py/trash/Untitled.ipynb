{
 "cells": [
  {
   "cell_type": "code",
   "execution_count": 84,
   "id": "695a8464",
   "metadata": {},
   "outputs": [],
   "source": [
    "import pandas as pd\n",
    "import hashlib\n",
    "import smtplib                                      # Импортируем библиотеку по работе с SMTP\n",
    "\n",
    "# Добавляем необходимые подклассы - MIME-типы\n",
    "from email.mime.multipart import MIMEMultipart      # Многокомпонентный объект\n",
    "from email.mime.text import MIMEText                # Текст/HTML\n",
    "from email.mime.image import MIMEImage              # Изображения\n",
    "import smtplib\n",
    "from email.mime.multipart import MIMEMultipart\n",
    "from email.mime.text import MIMEText"
   ]
  },
  {
   "cell_type": "code",
   "execution_count": 148,
   "id": "706978ba",
   "metadata": {},
   "outputs": [],
   "source": [
    "class message_send_saver():\n",
    "    def __init__(self,mail_from,password):\n",
    "        self.mail_from=mail_from\n",
    "        self.password=password\n",
    "    def send_message(self,photo,mail_to):\n",
    "\n",
    "        \n",
    "        # от кого\n",
    "        fromaddr = self.mail_from\n",
    "        # кому\n",
    "        toaddr = mail_to\n",
    "        # пароль\n",
    "        mypass = self.password\n",
    "\n",
    "        msg = MIMEMultipart()\n",
    "        msg['From'] = fromaddr\n",
    "        msg['To'] = toaddr\n",
    "        msg['Subject'] = \"результаты исследования\"\n",
    "        body = \"Результаты исследования\"\n",
    "        msg.attach(MIMEText(body, 'plain'))\n",
    "        with open('res.png', 'rb') as fp:\n",
    "            img = MIMEImage(fp.read())\n",
    "            img.add_header('Content-Disposition', 'attachment', filename=\"res.png\")\n",
    "            msg.attach(img)\n",
    "        # server = smtplib.SMTP_SSL('smtp.mail.ru', 465)\n",
    "        server = smtplib.SMTP('smtp.yandex.ru', 587)\n",
    "        server.starttls()\n",
    "\n",
    "        server.login(fromaddr, mypass)\n",
    "        text = msg.as_string()\n",
    "        server.sendmail(fromaddr, toaddr, text)\n",
    "        server.quit()\n",
    "    def save_mail(self,mail_to,mail_database):\n",
    "        table=pd.read_csv(mail_database)\n",
    "        cyMail=hashlib.md5(mail_to.encode())\n",
    "        if cyMail.hexdigest() not in list(table['hashedMail']):\n",
    "            print('его нет')\n",
    "            table.loc[ len(table.index )] = [cyMail.hexdigest()]\n",
    "            table.to_csv(mail_database,index=False)\n",
    "            \n",
    "            \n",
    "            \n",
    "        \n",
    "        "
   ]
  },
  {
   "cell_type": "code",
   "execution_count": 149,
   "id": "bccd6d73",
   "metadata": {},
   "outputs": [
    {
     "name": "stdout",
     "output_type": "stream",
     "text": [
      "45d019dc7b768d95a122b6e94fd5c619\n"
     ]
    }
   ],
   "source": [
    "import hashlib\n",
    "mail='sevasubbotin@yandex.ru'\n",
    "#mail=bytes(mail)\n",
    "\n",
    "print(hash_object.hexdigest())"
   ]
  },
  {
   "cell_type": "code",
   "execution_count": 150,
   "id": "9e00ac47",
   "metadata": {},
   "outputs": [],
   "source": [
    "data=pd.read_csv('database.csv')"
   ]
  },
  {
   "cell_type": "code",
   "execution_count": 151,
   "id": "04f6c27b",
   "metadata": {},
   "outputs": [
    {
     "data": {
      "text/plain": [
       "False"
      ]
     },
     "execution_count": 151,
     "metadata": {},
     "output_type": "execute_result"
    }
   ],
   "source": [
    "'45d019dc7b768d95a122b6e94fd5c619' not in list(data['hashedMail'])"
   ]
  },
  {
   "cell_type": "code",
   "execution_count": 152,
   "id": "49e7e7e2",
   "metadata": {},
   "outputs": [
    {
     "data": {
      "text/html": [
       "<div>\n",
       "<style scoped>\n",
       "    .dataframe tbody tr th:only-of-type {\n",
       "        vertical-align: middle;\n",
       "    }\n",
       "\n",
       "    .dataframe tbody tr th {\n",
       "        vertical-align: top;\n",
       "    }\n",
       "\n",
       "    .dataframe thead th {\n",
       "        text-align: right;\n",
       "    }\n",
       "</style>\n",
       "<table border=\"1\" class=\"dataframe\">\n",
       "  <thead>\n",
       "    <tr style=\"text-align: right;\">\n",
       "      <th></th>\n",
       "      <th>hashedMail</th>\n",
       "    </tr>\n",
       "  </thead>\n",
       "  <tbody>\n",
       "    <tr>\n",
       "      <th>0</th>\n",
       "      <td>45d019dc7b768d95a122b6e94fd5c619</td>\n",
       "    </tr>\n",
       "    <tr>\n",
       "      <th>1</th>\n",
       "      <td>45d019dc7b768d95a122b6e94fd5c619</td>\n",
       "    </tr>\n",
       "    <tr>\n",
       "      <th>2</th>\n",
       "      <td>45d019dc7b768d95a122b6e94fd5c619</td>\n",
       "    </tr>\n",
       "    <tr>\n",
       "      <th>3</th>\n",
       "      <td>45d019dc7b768d95a122b6e94fd5c619</td>\n",
       "    </tr>\n",
       "    <tr>\n",
       "      <th>4</th>\n",
       "      <td>45d019dc7b768d95a122b6e94fd5c619</td>\n",
       "    </tr>\n",
       "    <tr>\n",
       "      <th>5</th>\n",
       "      <td>45d019dc7b768d95a122b6e94fd5c619</td>\n",
       "    </tr>\n",
       "  </tbody>\n",
       "</table>\n",
       "</div>"
      ],
      "text/plain": [
       "                         hashedMail\n",
       "0  45d019dc7b768d95a122b6e94fd5c619\n",
       "1  45d019dc7b768d95a122b6e94fd5c619\n",
       "2  45d019dc7b768d95a122b6e94fd5c619\n",
       "3  45d019dc7b768d95a122b6e94fd5c619\n",
       "4  45d019dc7b768d95a122b6e94fd5c619\n",
       "5  45d019dc7b768d95a122b6e94fd5c619"
      ]
     },
     "execution_count": 152,
     "metadata": {},
     "output_type": "execute_result"
    }
   ],
   "source": [
    "data"
   ]
  },
  {
   "cell_type": "code",
   "execution_count": 153,
   "id": "62825ad3",
   "metadata": {},
   "outputs": [],
   "source": [
    "ms=message_send_saver('Ortuga.SguMed@yandex.ru','pzsbymrrhvfujiwo')"
   ]
  },
  {
   "cell_type": "code",
   "execution_count": 154,
   "id": "2012aefa",
   "metadata": {},
   "outputs": [],
   "source": [
    "ms.save_mail('sevasubbotin@yandex.ru','database.csv')"
   ]
  },
  {
   "cell_type": "code",
   "execution_count": 155,
   "id": "747c95b8",
   "metadata": {},
   "outputs": [],
   "source": [
    "mail_to='sevasubbotin@yandex.ru'\n",
    "mail_database='database.csv'\n",
    "photo='pzsbymrrhvfujiwo'"
   ]
  },
  {
   "cell_type": "code",
   "execution_count": 156,
   "id": "d3b0d34e",
   "metadata": {},
   "outputs": [],
   "source": [
    "ms.send_message(photo,mail_to)"
   ]
  },
  {
   "cell_type": "code",
   "execution_count": 56,
   "id": "68026471",
   "metadata": {},
   "outputs": [],
   "source": [
    "table=pd.read_csv(mail_database)\n",
    "cyMail=hashlib.md5(mail_to.encode())\n",
    "if cyMail in table['hashedMail']:\n",
    "    table['hashedMail']=list(table['hashedMail']).append([cyMail.hexdigest()])\n",
    "    table.to_csv(mail_database,index=False)"
   ]
  },
  {
   "cell_type": "code",
   "execution_count": 57,
   "id": "974a691f",
   "metadata": {},
   "outputs": [
    {
     "data": {
      "text/plain": [
       "0    45d019dc7b768d95a122b6e94fd5c619\n",
       "Name: hashedMail, dtype: object"
      ]
     },
     "execution_count": 57,
     "metadata": {},
     "output_type": "execute_result"
    }
   ],
   "source": [
    "table['hashedMail']"
   ]
  },
  {
   "cell_type": "code",
   "execution_count": 147,
   "id": "2af415e8",
   "metadata": {},
   "outputs": [
    {
     "data": {
      "text/plain": [
       "(221, b'2.0.0 Closing connecton')"
      ]
     },
     "execution_count": 147,
     "metadata": {},
     "output_type": "execute_result"
    }
   ],
   "source": [
    "import smtplib\n",
    "from email.mime.multipart import MIMEMultipart\n",
    "from email.mime.text import MIMEText\n",
    "\n",
    "photo='18.jpg'\n",
    "# от кого\n",
    "fromaddr = 'ortuga.SguMed@yandex.ru'\n",
    "# кому\n",
    "toaddr = 'sevasubbotin@yandex.ru'\n",
    "# пароль\n",
    "mypass = 'pzsbymrrhvfujiwo'\n",
    "\n",
    "msg = MIMEMultipart()\n",
    "msg['From'] = fromaddr\n",
    "msg['To'] = toaddr\n",
    "msg['Subject'] = \"результаты исследования\"\n",
    "body = \"Результаты исследования\"\n",
    "msg.attach(MIMEText(body, 'plain'))\n",
    "with open('res.png', 'rb') as fp:\n",
    "    img = MIMEImage(fp.read())\n",
    "    img.add_header('Content-Disposition', 'attachment', filename=\"res.png\")\n",
    "    msg.attach(img)\n",
    "# server = smtplib.SMTP_SSL('smtp.mail.ru', 465)\n",
    "server = smtplib.SMTP('smtp.yandex.ru', 587)\n",
    "server.starttls()\n",
    "\n",
    "server.login(fromaddr, mypass)\n",
    "text = msg.as_string()\n",
    "server.sendmail(fromaddr, toaddr, text)\n",
    "server.quit()\n",
    "   "
   ]
  },
  {
   "cell_type": "code",
   "execution_count": 134,
   "id": "2d6abdbb",
   "metadata": {},
   "outputs": [],
   "source": [
    "import smtplib\n",
    "\n",
    "def send_notification(email, txt):\n",
    "    sender = 'ortuga.SguMed@yandex.ru'\n",
    "    sender_password = 'medicine1347'\n",
    "    mail_lib = smtplib.SMTP_SSL('smtp.yandex.ru', 465)\n",
    "    mail_lib.login(sender, sender_password)\n",
    "    for to_item in email:\n",
    "        msg = 'From: %s\\r\\nTo: %s\\r\\nContent-Type: text/plain; charset=\"utf-8\"\\r\\nSubject: %s\\r\\n\\r\\n' % (\n",
    "        sender, to_item, 'Тема сообщения')\n",
    "        msg += txt\n",
    "        mail_lib.sendmail(sender, to_item, msg.encode('utf8'))\n",
    "    mail_lib.quit()"
   ]
  },
  {
   "cell_type": "code",
   "execution_count": 136,
   "id": "f2591f60",
   "metadata": {},
   "outputs": [
    {
     "ename": "SMTPAuthenticationError",
     "evalue": "(535, b'5.7.8 Error: authentication failed: Invalid user or password! 1687131145-PWpeCNaWu8c0')",
     "output_type": "error",
     "traceback": [
      "\u001b[1;31m---------------------------------------------------------------------------\u001b[0m",
      "\u001b[1;31mSMTPAuthenticationError\u001b[0m                   Traceback (most recent call last)",
      "Cell \u001b[1;32mIn[136], line 1\u001b[0m\n\u001b[1;32m----> 1\u001b[0m \u001b[43msend_notification\u001b[49m\u001b[43m(\u001b[49m\u001b[38;5;124;43m'\u001b[39;49m\u001b[38;5;124;43msevasubbotin@yandex.ru\u001b[39;49m\u001b[38;5;124;43m'\u001b[39;49m\u001b[43m,\u001b[49m\u001b[38;5;124;43m'\u001b[39;49m\u001b[38;5;124;43mЯ умею отправлять письма\u001b[39;49m\u001b[38;5;124;43m'\u001b[39;49m\u001b[43m)\u001b[49m\n",
      "Cell \u001b[1;32mIn[134], line 7\u001b[0m, in \u001b[0;36msend_notification\u001b[1;34m(email, txt)\u001b[0m\n\u001b[0;32m      5\u001b[0m sender_password \u001b[38;5;241m=\u001b[39m \u001b[38;5;124m'\u001b[39m\u001b[38;5;124mmedicine1347\u001b[39m\u001b[38;5;124m'\u001b[39m\n\u001b[0;32m      6\u001b[0m mail_lib \u001b[38;5;241m=\u001b[39m smtplib\u001b[38;5;241m.\u001b[39mSMTP_SSL(\u001b[38;5;124m'\u001b[39m\u001b[38;5;124msmtp.yandex.ru\u001b[39m\u001b[38;5;124m'\u001b[39m, \u001b[38;5;241m465\u001b[39m)\n\u001b[1;32m----> 7\u001b[0m \u001b[43mmail_lib\u001b[49m\u001b[38;5;241;43m.\u001b[39;49m\u001b[43mlogin\u001b[49m\u001b[43m(\u001b[49m\u001b[43msender\u001b[49m\u001b[43m,\u001b[49m\u001b[43m \u001b[49m\u001b[43msender_password\u001b[49m\u001b[43m)\u001b[49m\n\u001b[0;32m      8\u001b[0m \u001b[38;5;28;01mfor\u001b[39;00m to_item \u001b[38;5;129;01min\u001b[39;00m email:\n\u001b[0;32m      9\u001b[0m     msg \u001b[38;5;241m=\u001b[39m \u001b[38;5;124m'\u001b[39m\u001b[38;5;124mFrom: \u001b[39m\u001b[38;5;132;01m%s\u001b[39;00m\u001b[38;5;130;01m\\r\u001b[39;00m\u001b[38;5;130;01m\\n\u001b[39;00m\u001b[38;5;124mTo: \u001b[39m\u001b[38;5;132;01m%s\u001b[39;00m\u001b[38;5;130;01m\\r\u001b[39;00m\u001b[38;5;130;01m\\n\u001b[39;00m\u001b[38;5;124mContent-Type: text/plain; charset=\u001b[39m\u001b[38;5;124m\"\u001b[39m\u001b[38;5;124mutf-8\u001b[39m\u001b[38;5;124m\"\u001b[39m\u001b[38;5;130;01m\\r\u001b[39;00m\u001b[38;5;130;01m\\n\u001b[39;00m\u001b[38;5;124mSubject: \u001b[39m\u001b[38;5;132;01m%s\u001b[39;00m\u001b[38;5;130;01m\\r\u001b[39;00m\u001b[38;5;130;01m\\n\u001b[39;00m\u001b[38;5;130;01m\\r\u001b[39;00m\u001b[38;5;130;01m\\n\u001b[39;00m\u001b[38;5;124m'\u001b[39m \u001b[38;5;241m%\u001b[39m (\n\u001b[0;32m     10\u001b[0m     sender, to_item, \u001b[38;5;124m'\u001b[39m\u001b[38;5;124mТема сообщения\u001b[39m\u001b[38;5;124m'\u001b[39m)\n",
      "File \u001b[1;32m~\\AppData\\Local\\Programs\\Python\\Python311\\Lib\\smtplib.py:750\u001b[0m, in \u001b[0;36mSMTP.login\u001b[1;34m(self, user, password, initial_response_ok)\u001b[0m\n\u001b[0;32m    747\u001b[0m         last_exception \u001b[38;5;241m=\u001b[39m e\n\u001b[0;32m    749\u001b[0m \u001b[38;5;66;03m# We could not login successfully.  Return result of last attempt.\u001b[39;00m\n\u001b[1;32m--> 750\u001b[0m \u001b[38;5;28;01mraise\u001b[39;00m last_exception\n",
      "File \u001b[1;32m~\\AppData\\Local\\Programs\\Python\\Python311\\Lib\\smtplib.py:739\u001b[0m, in \u001b[0;36mSMTP.login\u001b[1;34m(self, user, password, initial_response_ok)\u001b[0m\n\u001b[0;32m    737\u001b[0m method_name \u001b[38;5;241m=\u001b[39m \u001b[38;5;124m'\u001b[39m\u001b[38;5;124mauth_\u001b[39m\u001b[38;5;124m'\u001b[39m \u001b[38;5;241m+\u001b[39m authmethod\u001b[38;5;241m.\u001b[39mlower()\u001b[38;5;241m.\u001b[39mreplace(\u001b[38;5;124m'\u001b[39m\u001b[38;5;124m-\u001b[39m\u001b[38;5;124m'\u001b[39m, \u001b[38;5;124m'\u001b[39m\u001b[38;5;124m_\u001b[39m\u001b[38;5;124m'\u001b[39m)\n\u001b[0;32m    738\u001b[0m \u001b[38;5;28;01mtry\u001b[39;00m:\n\u001b[1;32m--> 739\u001b[0m     (code, resp) \u001b[38;5;241m=\u001b[39m \u001b[38;5;28;43mself\u001b[39;49m\u001b[38;5;241;43m.\u001b[39;49m\u001b[43mauth\u001b[49m\u001b[43m(\u001b[49m\n\u001b[0;32m    740\u001b[0m \u001b[43m        \u001b[49m\u001b[43mauthmethod\u001b[49m\u001b[43m,\u001b[49m\u001b[43m \u001b[49m\u001b[38;5;28;43mgetattr\u001b[39;49m\u001b[43m(\u001b[49m\u001b[38;5;28;43mself\u001b[39;49m\u001b[43m,\u001b[49m\u001b[43m \u001b[49m\u001b[43mmethod_name\u001b[49m\u001b[43m)\u001b[49m\u001b[43m,\u001b[49m\n\u001b[0;32m    741\u001b[0m \u001b[43m        \u001b[49m\u001b[43minitial_response_ok\u001b[49m\u001b[38;5;241;43m=\u001b[39;49m\u001b[43minitial_response_ok\u001b[49m\u001b[43m)\u001b[49m\n\u001b[0;32m    742\u001b[0m     \u001b[38;5;66;03m# 235 == 'Authentication successful'\u001b[39;00m\n\u001b[0;32m    743\u001b[0m     \u001b[38;5;66;03m# 503 == 'Error: already authenticated'\u001b[39;00m\n\u001b[0;32m    744\u001b[0m     \u001b[38;5;28;01mif\u001b[39;00m code \u001b[38;5;129;01min\u001b[39;00m (\u001b[38;5;241m235\u001b[39m, \u001b[38;5;241m503\u001b[39m):\n",
      "File \u001b[1;32m~\\AppData\\Local\\Programs\\Python\\Python311\\Lib\\smtplib.py:662\u001b[0m, in \u001b[0;36mSMTP.auth\u001b[1;34m(self, mechanism, authobject, initial_response_ok)\u001b[0m\n\u001b[0;32m    660\u001b[0m \u001b[38;5;28;01mif\u001b[39;00m code \u001b[38;5;129;01min\u001b[39;00m (\u001b[38;5;241m235\u001b[39m, \u001b[38;5;241m503\u001b[39m):\n\u001b[0;32m    661\u001b[0m     \u001b[38;5;28;01mreturn\u001b[39;00m (code, resp)\n\u001b[1;32m--> 662\u001b[0m \u001b[38;5;28;01mraise\u001b[39;00m SMTPAuthenticationError(code, resp)\n",
      "\u001b[1;31mSMTPAuthenticationError\u001b[0m: (535, b'5.7.8 Error: authentication failed: Invalid user or password! 1687131145-PWpeCNaWu8c0')"
     ]
    }
   ],
   "source": [
    "send_notification('sevasubbotin@yandex.ru','Я умею отправлять письма')"
   ]
  },
  {
   "cell_type": "code",
   "execution_count": null,
   "id": "6ae91b9a",
   "metadata": {},
   "outputs": [],
   "source": []
  }
 ],
 "metadata": {
  "kernelspec": {
   "display_name": "Python 3 (ipykernel)",
   "language": "python",
   "name": "python3"
  },
  "language_info": {
   "codemirror_mode": {
    "name": "ipython",
    "version": 3
   },
   "file_extension": ".py",
   "mimetype": "text/x-python",
   "name": "python",
   "nbconvert_exporter": "python",
   "pygments_lexer": "ipython3",
   "version": "3.11.2"
  }
 },
 "nbformat": 4,
 "nbformat_minor": 5
}
