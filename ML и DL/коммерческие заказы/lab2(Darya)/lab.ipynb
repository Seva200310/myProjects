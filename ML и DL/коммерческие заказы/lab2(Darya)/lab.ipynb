{
 "cells": [
  {
   "cell_type": "code",
   "execution_count": 70,
   "id": "668dc3cc",
   "metadata": {},
   "outputs": [],
   "source": [
    "import os\n",
    "os.environ['TF_CPP_MIN_LOG_LEVEL'] = '2'\n",
    "\n",
    "import numpy as np\n",
    "import matplotlib.pyplot as plt\n",
    "from tensorflow.keras.datasets import mnist         # библиотека базы выборок Mnist\n",
    "from tensorflow import keras\n",
    "from tensorflow.keras.layers import Dense, Flatten, Dropout, Conv2D, MaxPooling2D\n",
    "import pandas as pd\n",
    "import cv2\n",
    "import os\n",
    "from sklearn.model_selection import train_test_split\n",
    "from sklearn.metrics import mean_squared_error, f1_score, accuracy_score"
   ]
  },
  {
   "cell_type": "code",
   "execution_count": 71,
   "id": "8711aeda",
   "metadata": {},
   "outputs": [],
   "source": [
    "def preChangeImg(img,treshhold1,treshhold2):\n",
    "    img = cv2.imread(img,1)\n",
    "    img = cv2.resize(img, (100, 100))\n",
    "    img=cv2.GaussianBlur(img,(9,9),0)\n",
    "    img=cv2.cvtColor(img,cv2.COLOR_BGR2GRAY)\n",
    "    img=cv2.Canny(img,treshhold1,treshhold2)\n",
    "    return img"
   ]
  },
  {
   "cell_type": "code",
   "execution_count": 72,
   "id": "8135d842",
   "metadata": {},
   "outputs": [],
   "source": [
    "os.listdir()\n",
    "os.chdir('raw-img')\n",
    "animals=os.listdir()\n",
    "X=[]\n",
    "y=[]\n",
    "for animal in animals:\n",
    "    os.chdir(animal)\n",
    "    for img in os.listdir():\n",
    "        X.append(preChangeImg(img,80,60))\n",
    "        y.append(animal)\n",
    "    os.chdir('../')\n",
    "os.chdir('../')"
   ]
  },
  {
   "cell_type": "code",
   "execution_count": 73,
   "id": "088ea926",
   "metadata": {
    "scrolled": false
   },
   "outputs": [
    {
     "data": {
      "image/png": "[encoded data removed]",
      "text/plain": [
       "<Figure size 640x480 with 1 Axes>"
      ]
     },
     "metadata": {},
     "output_type": "display_data"
    }
   ],
   "source": [
    "plt.imshow(X[750])\n",
    "plt.show()"
   ]
  },
  {
   "cell_type": "code",
   "execution_count": 74,
   "id": "11990410",
   "metadata": {},
   "outputs": [
    {
     "data": {
      "text/plain": [
       "'butterfly'"
      ]
     },
     "execution_count": 74,
     "metadata": {},
     "output_type": "execute_result"
    }
   ],
   "source": [
    "y[750]"
   ]
  },
  {
   "cell_type": "code",
   "execution_count": 75,
   "id": "d0c62855",
   "metadata": {},
   "outputs": [],
   "source": [
    "x_train, x_test, y_train, y_test = train_test_split(X, y, test_size=0.2, shuffle=True)\n",
    "x_train=np.array(x_train)/255\n",
    "x_test=np.array(x_test)/255\n"
   ]
  },
  {
   "cell_type": "code",
   "execution_count": 76,
   "id": "1f9072fd",
   "metadata": {},
   "outputs": [],
   "source": [
    "y_train_cat=pd.get_dummies(y_train).values\n",
    "y_test_cat=pd.get_dummies(y_test).values\n",
    "\n",
    "x_train = np.expand_dims(x_train, axis=3)\n",
    "x_test = np.expand_dims(x_test, axis=3)"
   ]
  },
  {
   "cell_type": "code",
   "execution_count": null,
   "id": "b74e6633",
   "metadata": {},
   "outputs": [],
   "source": []
  },
  {
   "cell_type": "code",
   "execution_count": 77,
   "id": "ade06d1c",
   "metadata": {},
   "outputs": [
    {
     "data": {
      "text/plain": [
       "(100, 100, 1)"
      ]
     },
     "execution_count": 77,
     "metadata": {},
     "output_type": "execute_result"
    }
   ],
   "source": [
    "x_train[0].shape"
   ]
  },
  {
   "cell_type": "code",
   "execution_count": 78,
   "id": "d1e2cace",
   "metadata": {},
   "outputs": [],
   "source": [
    "model = keras.Sequential([\n",
    "    Conv2D(8, (3,3), padding='same', activation='relu', input_shape=(100, 100, 1)),\n",
    "    MaxPooling2D((2, 2), strides=2),\n",
    "    Conv2D(16, (3,3), padding='same', activation='relu'),\n",
    "    Conv2D(16, (3,3), padding='same', activation='relu'),\n",
    "    MaxPooling2D((2, 2), strides=2),\n",
    "    Conv2D(32, (3,3), padding='same', activation='relu'),\n",
    "    Conv2D(32, (3,3), padding='same', activation='relu'),\n",
    "    MaxPooling2D((2, 2), strides=2),\n",
    "    Conv2D(64, (3,3), padding='same', activation='relu'),\n",
    "    Conv2D(64, (3,3), padding='same', activation='relu'),\n",
    "    MaxPooling2D((2, 2), strides=2),\n",
    "    Flatten(),\n",
    "    Dense(1024, activation='relu'),\n",
    "    Dense(128, activation='relu'),\n",
    "    Dense(10,  activation='softmax')\n",
    "])"
   ]
  },
  {
   "cell_type": "code",
   "execution_count": 79,
   "id": "83da5007",
   "metadata": {},
   "outputs": [
    {
     "name": "stdout",
     "output_type": "stream",
     "text": [
      "Model: \"sequential_3\"\n",
      "_________________________________________________________________\n",
      " Layer (type)                Output Shape              Param #   \n",
      "=================================================================\n",
      " conv2d_21 (Conv2D)          (None, 100, 100, 8)       80        \n",
      "                                                                 \n",
      " max_pooling2d_12 (MaxPoolin  (None, 50, 50, 8)        0         \n",
      " g2D)                                                            \n",
      "                                                                 \n",
      " conv2d_22 (Conv2D)          (None, 50, 50, 16)        1168      \n",
      "                                                                 \n",
      " conv2d_23 (Conv2D)          (None, 50, 50, 16)        2320      \n",
      "                                                                 \n",
      " max_pooling2d_13 (MaxPoolin  (None, 25, 25, 16)       0         \n",
      " g2D)                                                            \n",
      "                                                                 \n",
      " conv2d_24 (Conv2D)          (None, 25, 25, 32)        4640      \n",
      "                                                                 \n",
      " conv2d_25 (Conv2D)          (None, 25, 25, 32)        9248      \n",
      "                                                                 \n",
      " max_pooling2d_14 (MaxPoolin  (None, 12, 12, 32)       0         \n",
      " g2D)                                                            \n",
      "                                                                 \n",
      " conv2d_26 (Conv2D)          (None, 12, 12, 64)        18496     \n",
      "                                                                 \n",
      " conv2d_27 (Conv2D)          (None, 12, 12, 64)        36928     \n",
      "                                                                 \n",
      " max_pooling2d_15 (MaxPoolin  (None, 6, 6, 64)         0         \n",
      " g2D)                                                            \n",
      "                                                                 \n",
      " flatten_3 (Flatten)         (None, 2304)              0         \n",
      "                                                                 \n",
      " dense_9 (Dense)             (None, 1024)              2360320   \n",
      "                                                                 \n",
      " dense_10 (Dense)            (None, 128)               131200    \n",
      "                                                                 \n",
      " dense_11 (Dense)            (None, 10)                1290      \n",
      "                                                                 \n",
      "=================================================================\n",
      "Total params: 2,565,690\n",
      "Trainable params: 2,565,690\n",
      "Non-trainable params: 0\n",
      "_________________________________________________________________\n",
      "None\n"
     ]
    }
   ],
   "source": [
    " print(model.summary())      # вывод структуры НС в консоль\n",
    "\n",
    "model.compile(optimizer='adam',\n",
    "             loss='categorical_crossentropy',\n",
    "             metrics=['accuracy'])"
   ]
  },
  {
   "cell_type": "code",
   "execution_count": 80,
   "id": "38f3a24c",
   "metadata": {},
   "outputs": [
    {
     "name": "stdout",
     "output_type": "stream",
     "text": [
      "Epoch 1/5\n",
      "524/524 [==============================] - 57s 106ms/step - loss: 2.1179 - accuracy: 0.2390 - val_loss: 1.9191 - val_accuracy: 0.3466\n",
      "Epoch 2/5\n",
      "524/524 [==============================] - 59s 112ms/step - loss: 1.8217 - accuracy: 0.3665 - val_loss: 1.7182 - val_accuracy: 0.3984\n",
      "Epoch 3/5\n",
      "524/524 [==============================] - 60s 115ms/step - loss: 1.6127 - accuracy: 0.4401 - val_loss: 1.5754 - val_accuracy: 0.4514\n",
      "Epoch 4/5\n",
      "524/524 [==============================] - 61s 116ms/step - loss: 1.4074 - accuracy: 0.5113 - val_loss: 1.6037 - val_accuracy: 0.4634\n",
      "Epoch 5/5\n",
      "524/524 [==============================] - 61s 117ms/step - loss: 1.1296 - accuracy: 0.6120 - val_loss: 1.6302 - val_accuracy: 0.4774\n",
      "164/164 [==============================] - 3s 17ms/step - loss: 1.6840 - accuracy: 0.4566\n"
     ]
    },
    {
     "data": {
      "text/plain": [
       "[1.6839874982833862, 0.45664629340171814]"
      ]
     },
     "execution_count": 80,
     "metadata": {},
     "output_type": "execute_result"
    }
   ],
   "source": [
    "his = model.fit(x_train, y_train_cat, batch_size=32, epochs=5, validation_split=0.2)\n",
    "\n",
    "model.evaluate(x_test, y_test_cat)"
   ]
  },
  {
   "cell_type": "code",
   "execution_count": null,
   "id": "8d72fd15",
   "metadata": {},
   "outputs": [],
   "source": [
    "x_train"
   ]
  },
  {
   "cell_type": "code",
   "execution_count": null,
   "id": "988de960",
   "metadata": {},
   "outputs": [],
   "source": [
    "y_train"
   ]
  },
  {
   "cell_type": "code",
   "execution_count": null,
   "id": "99f87104",
   "metadata": {},
   "outputs": [],
   "source": []
  },
  {
   "cell_type": "markdown",
   "id": "bccc3364",
   "metadata": {},
   "source": [
    "Тестирование"
   ]
  },
  {
   "cell_type": "markdown",
   "id": "7fc04fe3",
   "metadata": {},
   "source": [
    "1) точность в числах"
   ]
  },
  {
   "cell_type": "code",
   "execution_count": 37,
   "id": "2fe94090",
   "metadata": {},
   "outputs": [],
   "source": [
    "def print_logisitc_metrics_1(y_true, y_pred):\n",
    "    y_true=y_true.index(max(y_true))\n",
    "    \n",
    "    acc = accuracy_score(y_true, y_pred)\n",
    "    f1 = f1_score(y_true, y_pred)\n",
    "    print(f'acc = {acc:.2f} F1-score = {f1:.2f}')"
   ]
  },
  {
   "cell_type": "code",
   "execution_count": null,
   "id": "fa47711e",
   "metadata": {},
   "outputs": [],
   "source": [
    "y_pred=model.predict(x_test)"
   ]
  },
  {
   "cell_type": "code",
   "execution_count": null,
   "id": "aee84437",
   "metadata": {},
   "outputs": [],
   "source": [
    "print_logisitc_metrics(y_test, y_pred)"
   ]
  },
  {
   "cell_type": "code",
   "execution_count": null,
   "id": "033fa9dc",
   "metadata": {},
   "outputs": [],
   "source": [
    "model.predict(np.array([x_test[0]]))"
   ]
  },
  {
   "cell_type": "code",
   "execution_count": null,
   "id": "cdffca21",
   "metadata": {},
   "outputs": [],
   "source": [
    ".shape"
   ]
  },
  {
   "cell_type": "markdown",
   "id": "1723fde7",
   "metadata": {},
   "source": [
    "2)Наглядное использование"
   ]
  },
  {
   "cell_type": "code",
   "execution_count": null,
   "id": "9ae7f53d",
   "metadata": {},
   "outputs": [],
   "source": [
    "def demonstration(img,animals):\n",
    "    img_matrix=np.array(preChangeImg(img,50,50))/255\n",
    "    #np.expand_dims(img_matrix, axis=3)\n",
    "    y_pred=model.predict(np.array([x_test[0]]))[0]\n",
    "    y_pred=list(y_pred).index(max(y_pred))\n",
    "    animal=animals[y_pred]\n",
    "    print(animal)\n",
    "    plt.imshow(cv2.imread(img))\n",
    "    plt.show()"
   ]
  },
  {
   "cell_type": "code",
   "execution_count": null,
   "id": "59e07f7a",
   "metadata": {},
   "outputs": [],
   "source": [
    "demonstration(\"spider\\ea34b6092af2073ed1584d05fb1d4e9fe777ead218ac104497f5c97ca5ecb3b9_640.jpg\",animals)"
   ]
  },
  {
   "cell_type": "code",
   "execution_count": null,
   "id": "d1d13706",
   "metadata": {},
   "outputs": [],
   "source": [
    "cv2.imread(\"spider\\ea34b6092af2073ed1584d05fb1d4e9fe777ead218ac104497f5c97ca5ecb3b9_640.jpg\",1)"
   ]
  },
  {
   "cell_type": "code",
   "execution_count": null,
   "id": "24b678e7",
   "metadata": {},
   "outputs": [],
   "source": []
  },
  {
   "cell_type": "code",
   "execution_count": null,
   "id": "a0ae3141",
   "metadata": {},
   "outputs": [],
   "source": []
  },
  {
   "cell_type": "code",
   "execution_count": null,
   "id": "84f6b687",
   "metadata": {},
   "outputs": [],
   "source": []
  },
  {
   "cell_type": "code",
   "execution_count": null,
   "id": "0f473303",
   "metadata": {},
   "outputs": [],
   "source": []
  },
  {
   "cell_type": "code",
   "execution_count": null,
   "id": "26b97e3a",
   "metadata": {},
   "outputs": [],
   "source": []
  },
  {
   "cell_type": "code",
   "execution_count": null,
   "id": "d3582c6f",
   "metadata": {},
   "outputs": [],
   "source": [
    "from sklearn.cluster import KMeans\n",
    "k_means = KMeans(n_clusters=10,random_state=42)"
   ]
  },
  {
   "cell_type": "code",
   "execution_count": 23,
   "id": "4fbd5485",
   "metadata": {},
   "outputs": [],
   "source": [
    "def prepXforNeib(X):\n",
    "    X_k=np.array(X)\n",
    "    X_k=X_k.reshape(X_k.shape[0], -1)\n",
    "    return X_k"
   ]
  },
  {
   "cell_type": "code",
   "execution_count": 53,
   "id": "a1415060",
   "metadata": {},
   "outputs": [],
   "source": [
    "def print_logisitc_metrics_2(y_true, y_pred):    \n",
    "    acc = accuracy_score(y_true, y_pred)\n",
    "    f1 = f1_score(y_true, y_pred,average='weighted')\n",
    "    print(f'acc = {acc:.2f} F1-score = {f1:.2f}')"
   ]
  },
  {
   "cell_type": "code",
   "execution_count": null,
   "id": "25329473",
   "metadata": {},
   "outputs": [],
   "source": [
    "X_k"
   ]
  },
  {
   "cell_type": "code",
   "execution_count": null,
   "id": "d9f82ecb",
   "metadata": {},
   "outputs": [],
   "source": [
    "k_means.fit(X_k)"
   ]
  },
  {
   "cell_type": "code",
   "execution_count": null,
   "id": "5372e246",
   "metadata": {},
   "outputs": [],
   "source": [
    "k_means.predict([X_k[0]])"
   ]
  },
  {
   "cell_type": "code",
   "execution_count": 88,
   "id": "cdedc04e",
   "metadata": {},
   "outputs": [],
   "source": [
    "from sklearn.neighbors import KNeighborsClassifier\n",
    "neigh = KNeighborsClassifier(n_neighbors=3)"
   ]
  },
  {
   "cell_type": "code",
   "execution_count": 89,
   "id": "5d6dc937",
   "metadata": {},
   "outputs": [],
   "source": [
    "x_train=prepXforNeib(x_train)\n",
    "x_test=prepXforNeib(x_test)"
   ]
  },
  {
   "cell_type": "code",
   "execution_count": 90,
   "id": "0e6e08ef",
   "metadata": {},
   "outputs": [
    {
     "data": {
      "text/html": [
       "<style>#sk-container-id-6 {color: black;background-color: white;}#sk-container-id-6 pre{padding: 0;}#sk-container-id-6 div.sk-toggleable {background-color: white;}#sk-container-id-6 label.sk-toggleable__label {cursor: pointer;display: block;width: 100%;margin-bottom: 0;padding: 0.3em;box-sizing: border-box;text-align: center;}#sk-container-id-6 label.sk-toggleable__label-arrow:before {content: \"▸\";float: left;margin-right: 0.25em;color: #696969;}#sk-container-id-6 label.sk-toggleable__label-arrow:hover:before {color: black;}#sk-container-id-6 div.sk-estimator:hover label.sk-toggleable__label-arrow:before {color: black;}#sk-container-id-6 div.sk-toggleable__content {max-height: 0;max-width: 0;overflow: hidden;text-align: left;background-color: #f0f8ff;}#sk-container-id-6 div.sk-toggleable__content pre {margin: 0.2em;color: black;border-radius: 0.25em;background-color: #f0f8ff;}#sk-container-id-6 input.sk-toggleable__control:checked~div.sk-toggleable__content {max-height: 200px;max-width: 100%;overflow: auto;}#sk-container-id-6 input.sk-toggleable__control:checked~label.sk-toggleable__label-arrow:before {content: \"▾\";}#sk-container-id-6 div.sk-estimator input.sk-toggleable__control:checked~label.sk-toggleable__label {background-color: #d4ebff;}#sk-container-id-6 div.sk-label input.sk-toggleable__control:checked~label.sk-toggleable__label {background-color: #d4ebff;}#sk-container-id-6 input.sk-hidden--visually {border: 0;clip: rect(1px 1px 1px 1px);clip: rect(1px, 1px, 1px, 1px);height: 1px;margin: -1px;overflow: hidden;padding: 0;position: absolute;width: 1px;}#sk-container-id-6 div.sk-estimator {font-family: monospace;background-color: #f0f8ff;border: 1px dotted black;border-radius: 0.25em;box-sizing: border-box;margin-bottom: 0.5em;}#sk-container-id-6 div.sk-estimator:hover {background-color: #d4ebff;}#sk-container-id-6 div.sk-parallel-item::after {content: \"\";width: 100%;border-bottom: 1px solid gray;flex-grow: 1;}#sk-container-id-6 div.sk-label:hover label.sk-toggleable__label {background-color: #d4ebff;}#sk-container-id-6 div.sk-serial::before {content: \"\";position: absolute;border-left: 1px solid gray;box-sizing: border-box;top: 0;bottom: 0;left: 50%;z-index: 0;}#sk-container-id-6 div.sk-serial {display: flex;flex-direction: column;align-items: center;background-color: white;padding-right: 0.2em;padding-left: 0.2em;position: relative;}#sk-container-id-6 div.sk-item {position: relative;z-index: 1;}#sk-container-id-6 div.sk-parallel {display: flex;align-items: stretch;justify-content: center;background-color: white;position: relative;}#sk-container-id-6 div.sk-item::before, #sk-container-id-6 div.sk-parallel-item::before {content: \"\";position: absolute;border-left: 1px solid gray;box-sizing: border-box;top: 0;bottom: 0;left: 50%;z-index: -1;}#sk-container-id-6 div.sk-parallel-item {display: flex;flex-direction: column;z-index: 1;position: relative;background-color: white;}#sk-container-id-6 div.sk-parallel-item:first-child::after {align-self: flex-end;width: 50%;}#sk-container-id-6 div.sk-parallel-item:last-child::after {align-self: flex-start;width: 50%;}#sk-container-id-6 div.sk-parallel-item:only-child::after {width: 0;}#sk-container-id-6 div.sk-dashed-wrapped {border: 1px dashed gray;margin: 0 0.4em 0.5em 0.4em;box-sizing: border-box;padding-bottom: 0.4em;background-color: white;}#sk-container-id-6 div.sk-label label {font-family: monospace;font-weight: bold;display: inline-block;line-height: 1.2em;}#sk-container-id-6 div.sk-label-container {text-align: center;}#sk-container-id-6 div.sk-container {/* jupyter's `normalize.less` sets `[hidden] { display: none; }` but bootstrap.min.css set `[hidden] { display: none !important; }` so we also need the `!important` here to be able to override the default hidden behavior on the sphinx rendered scikit-learn.org. See: https://github.com/scikit-learn/scikit-learn/issues/21755 */display: inline-block !important;position: relative;}#sk-container-id-6 div.sk-text-repr-fallback {display: none;}</style><div id=\"sk-container-id-6\" class=\"sk-top-container\"><div class=\"sk-text-repr-fallback\"><pre>KNeighborsClassifier(n_neighbors=3)</pre><b>In a Jupyter environment, please rerun this cell to show the HTML representation or trust the notebook. <br />On GitHub, the HTML representation is unable to render, please try loading this page with nbviewer.org.</b></div><div class=\"sk-container\" hidden><div class=\"sk-item\"><div class=\"sk-estimator sk-toggleable\"><input class=\"sk-toggleable__control sk-hidden--visually\" id=\"sk-estimator-id-6\" type=\"checkbox\" checked><label for=\"sk-estimator-id-6\" class=\"sk-toggleable__label sk-toggleable__label-arrow\">KNeighborsClassifier</label><div class=\"sk-toggleable__content\"><pre>KNeighborsClassifier(n_neighbors=3)</pre></div></div></div></div></div>"
      ],
      "text/plain": [
       "KNeighborsClassifier(n_neighbors=3)"
      ]
     },
     "execution_count": 90,
     "metadata": {},
     "output_type": "execute_result"
    }
   ],
   "source": [
    "neigh.fit(x_train,y_train)"
   ]
  },
  {
   "cell_type": "code",
   "execution_count": 91,
   "id": "7d2a1d78",
   "metadata": {},
   "outputs": [
    {
     "data": {
      "text/plain": [
       "(5236, 10000)"
      ]
     },
     "execution_count": 91,
     "metadata": {},
     "output_type": "execute_result"
    }
   ],
   "source": [
    "x_test.shape"
   ]
  },
  {
   "cell_type": "code",
   "execution_count": 92,
   "id": "8553d41d",
   "metadata": {},
   "outputs": [],
   "source": [
    "y_pred=neigh.predict(x_test)"
   ]
  },
  {
   "cell_type": "code",
   "execution_count": 93,
   "id": "8f26a857",
   "metadata": {},
   "outputs": [
    {
     "name": "stdout",
     "output_type": "stream",
     "text": [
      "acc = 0.20 F1-score = 0.09\n"
     ]
    }
   ],
   "source": [
    "print_logisitc_metrics_2(y_test, y_pred)"
   ]
  },
  {
   "cell_type": "code",
   "execution_count": null,
   "id": "0b83cf8c",
   "metadata": {},
   "outputs": [],
   "source": []
  },
  {
   "cell_type": "code",
   "execution_count": null,
   "id": "cd9f65b2",
   "metadata": {},
   "outputs": [],
   "source": []
  }
 ],
 "metadata": {
  "kernelspec": {
   "display_name": "Python 3 (ipykernel)",
   "language": "python",
   "name": "python3"
  },
  "language_info": {
   "codemirror_mode": {
    "name": "ipython",
    "version": 3
   },
   "file_extension": ".py",
   "mimetype": "text/x-python",
   "name": "python",
   "nbconvert_exporter": "python",
   "pygments_lexer": "ipython3",
   "version": "3.11.2"
  }
 },
 "nbformat": 4,
 "nbformat_minor": 5
}
